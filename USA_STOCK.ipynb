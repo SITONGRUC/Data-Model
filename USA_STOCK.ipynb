{
 "cells": [
  {
   "cell_type": "code",
   "execution_count": 1,
   "id": "e664f8ab",
   "metadata": {
    "scrolled": true
   },
   "outputs": [],
   "source": [
    "import pandas as pd\n",
    "from selenium import webdriver\n",
    "import requests\n",
    "import re\n",
    "import random\n",
    "import os\n",
    "browser = webdriver.Chrome('chromedriver')\n",
    "data_list = pd.DataFrame(pd.read_excel('list_new_new.xlsx'))\n",
    "data_list = list(data_list['Symbol'])\n",
    "list_2 = []\n",
    "for i in data_list:\n",
    "    list_2.append( 'https://query1.finance.yahoo.com/v7/finance/download/'+i+'?period1=1514505600&period2=1640995200&interval=1d&events=history&includeAdjustedClose=true')\n",
    "for i in list_2:\n",
    "    browser.get(i)"
   ]
  },
  {
   "cell_type": "markdown",
   "id": "ee404bf6",
   "metadata": {},
   "source": [
    "第一版（原文）"
   ]
  },
  {
   "cell_type": "code",
   "execution_count": 7,
   "id": "66b86fba",
   "metadata": {
    "scrolled": false
   },
   "outputs": [
    {
     "name": "stderr",
     "output_type": "stream",
     "text": [
      "<ipython-input-7-47f8ad985b05>:4: DeprecationWarning: The default dtype for empty Series will be 'object' instead of 'float64' in a future version. Specify a dtype explicitly to silence this warning.\n",
      "  data['movement percent'] = pd.Series()\n"
     ]
    }
   ],
   "source": [
    "list_stock = os.listdir(r'C:\\Users\\86188\\Downloads\\raw-data')\n",
    "for i in list_stock:\n",
    "    data = pd.read_csv('C://Users//86188//Downloads//raw-data//'+i)\n",
    "    data['movement percent'] = pd.Series()\n",
    "    for j in range(1,len(data)):\n",
    "        data['movement percent'].iloc[j] = (data['Adj Close'].iloc[j]-data['Adj Close'].iloc[j-1])/data['Adj Close'].iloc[j-1]\n",
    "        data['Open'].iloc[j] = (data['Open'].iloc[j]-data['Adj Close'].iloc[j-1])/data['Adj Close'].iloc[j-1]\n",
    "        data['High'].iloc[j] = (data['High'].iloc[j]-data['Adj Close'].iloc[j-1])/data['Adj Close'].iloc[j-1]\n",
    "        data['Low'].iloc[j] = (data['Low'].iloc[j]-data['Adj Close'].iloc[j-1])/data['Adj Close'].iloc[j-1]\n",
    "        data['Close'].iloc[j] = (data['Close'].iloc[j]-data['Adj Close'].iloc[j-1])/data['Adj Close'].iloc[j-1]\n",
    "    data_copy = data[['Date','movement percent','Open', 'High', 'Low', 'Close', 'Volume']].copy()\n",
    "    name = i.split('.')[0]\n",
    "    scaled = data_copy[2:].copy()\n",
    "    with open('C://Users//86188//Downloads//processed-data-1//'+name+'.txt','a+') as f:\n",
    "        for line in scaled.values:\n",
    "            f.write((str(line[0])+'\\t'+str(line[1])+'\\t'+str(line[2])+'\\t'+str(line[3])+'\\t'+str(line[4])+'\\t'+str(line[5])+'\\t'+str(line[6])+'\\n'))"
   ]
  },
  {
   "cell_type": "markdown",
   "id": "773ee27f",
   "metadata": {},
   "source": [
    "第二版"
   ]
  },
  {
   "cell_type": "code",
   "execution_count": 8,
   "id": "3df178b8",
   "metadata": {
    "scrolled": false
   },
   "outputs": [
    {
     "name": "stderr",
     "output_type": "stream",
     "text": [
      "<ipython-input-8-ca4761bbaf23>:4: DeprecationWarning: The default dtype for empty Series will be 'object' instead of 'float64' in a future version. Specify a dtype explicitly to silence this warning.\n",
      "  data['movement percent'] = pd.Series()\n"
     ]
    }
   ],
   "source": [
    "list_stock = os.listdir(r'C:\\Users\\86188\\Downloads\\raw-data')\n",
    "for i in list_stock:\n",
    "    data = pd.read_csv('C://Users//86188//Downloads//raw-data//'+i)\n",
    "    data['movement percent'] = pd.Series()\n",
    "    data_1 = data.copy()\n",
    "    for j in range(1,len(data)):\n",
    "        data_1['movement percent'].iloc[j] = (data['Adj Close'].iloc[j]-data['Adj Close'].iloc[j-1])/data['Adj Close'].iloc[j-1]\n",
    "        data_1['Open'].iloc[j] = (data['Open'].iloc[j]-data['Open'].iloc[j-1])/data['Open'].iloc[j-1]\n",
    "        data_1['High'].iloc[j] = (data['High'].iloc[j]-data['High'].iloc[j-1])/data['High'].iloc[j-1]\n",
    "        data_1['Low'].iloc[j] = (data['Low'].iloc[j]-data['Low'].iloc[j-1])/data['Low'].iloc[j-1]\n",
    "        data_1['Close'].iloc[j] = (data['Close'].iloc[j]-data['Close'].iloc[j-1])/data['Close'].iloc[j-1]\n",
    "    data_copy = data_1[['Date','movement percent','Open', 'High', 'Low', 'Close', 'Volume']].copy()\n",
    "    name = i.split('.')[0]\n",
    "    scaled = data_copy[2:].copy()\n",
    "    with open('C://Users//86188//Downloads//processed-data-2//'+name+'.txt','a+') as f:\n",
    "        for line in scaled.values:\n",
    "            f.write((str(line[0])+'\\t'+str(line[1])+'\\t'+str(line[2])+'\\t'+str(line[3])+'\\t'+str(line[4])+'\\t'+str(line[5])+'\\t'+str(line[6])+'\\n'))\n",
    "            "
   ]
  },
  {
   "cell_type": "code",
   "execution_count": null,
   "id": "1abdc3d9",
   "metadata": {},
   "outputs": [],
   "source": []
  }
 ],
 "metadata": {
  "kernelspec": {
   "display_name": "Python 3",
   "language": "python",
   "name": "python3"
  },
  "language_info": {
   "codemirror_mode": {
    "name": "ipython",
    "version": 3
   },
   "file_extension": ".py",
   "mimetype": "text/x-python",
   "name": "python",
   "nbconvert_exporter": "python",
   "pygments_lexer": "ipython3",
   "version": "3.8.8"
  }
 },
 "nbformat": 4,
 "nbformat_minor": 5
}
